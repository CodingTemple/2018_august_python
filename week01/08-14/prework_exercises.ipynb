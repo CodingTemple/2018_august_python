{
 "cells": [
  {
   "cell_type": "code",
   "execution_count": 15,
   "metadata": {},
   "outputs": [
    {
     "name": "stdout",
     "output_type": "stream",
     "text": [
      "Hello, Mariia\n"
     ]
    }
   ],
   "source": [
    "# 1\n",
    "\n",
    "# Write a function to print \"hello_USERNAME!\" USERNAME is the input of the function.\n",
    "# The first line of the code has been defined as below.\n",
    "def hello_name(username):\n",
    "    print(f\"Hello, {username}\")\n",
    "    \n",
    "hello_name(\"Mariia\")"
   ]
  },
  {
   "cell_type": "code",
   "execution_count": 19,
   "metadata": {},
   "outputs": [
    {
     "name": "stdout",
     "output_type": "stream",
     "text": [
      "1\n",
      "3\n",
      "5\n",
      "7\n",
      "9\n",
      "11\n",
      "13\n",
      "15\n",
      "17\n",
      "19\n",
      "21\n",
      "23\n",
      "25\n",
      "27\n",
      "29\n",
      "31\n",
      "33\n",
      "35\n",
      "37\n",
      "39\n",
      "41\n",
      "43\n",
      "45\n",
      "47\n",
      "49\n",
      "51\n",
      "53\n",
      "55\n",
      "57\n",
      "59\n",
      "61\n",
      "63\n",
      "65\n",
      "67\n",
      "69\n",
      "71\n",
      "73\n",
      "75\n",
      "77\n",
      "79\n",
      "81\n",
      "83\n",
      "85\n",
      "87\n",
      "89\n",
      "91\n",
      "93\n",
      "95\n",
      "97\n",
      "99\n"
     ]
    }
   ],
   "source": [
    "# 2\n",
    "\n",
    "# Print first 100 odd numbers in Python.\n",
    "i = 1\n",
    "while(i <= 100):\n",
    "    if i%2!=0:\n",
    "        print(i)\n",
    "    i+=1"
   ]
  },
  {
   "cell_type": "code",
   "execution_count": 22,
   "metadata": {},
   "outputs": [
    {
     "data": {
      "text/plain": [
       "5642"
      ]
     },
     "execution_count": 22,
     "metadata": {},
     "output_type": "execute_result"
    }
   ],
   "source": [
    "# 3\n",
    "\n",
    "# Please write a Python function, max_num_in_list to return the max number of a given list.\n",
    "def max_num_in_list(a_list):\n",
    "    return max(a_list)\n",
    "\n",
    "max_num_in_list([34, 5642, 12, 5, 2, 686, 87])"
   ]
  },
  {
   "cell_type": "code",
   "execution_count": 31,
   "metadata": {},
   "outputs": [
    {
     "data": {
      "text/plain": [
       "67"
      ]
     },
     "execution_count": 31,
     "metadata": {},
     "output_type": "execute_result"
    }
   ],
   "source": [
    "# Bubble Sorting Algorithms\n",
    "def max_num_in_list(a_list):\n",
    "    for i in range(len(a_list)-1):\n",
    "        for j in range(len(a_list)-1-i):\n",
    "            if a_list[j] > a_list[j+1]:\n",
    "                a_list[j], a_list[j+1] = a_list[j+1], a_list[j]\n",
    "    return a_list[-1]\n",
    "            \n",
    "max_num_in_list([54, 9, 57, 67, 3])"
   ]
  },
  {
   "cell_type": "code",
   "execution_count": 34,
   "metadata": {},
   "outputs": [
    {
     "data": {
      "text/plain": [
       "243"
      ]
     },
     "execution_count": 34,
     "metadata": {},
     "output_type": "execute_result"
    }
   ],
   "source": [
    "# 4\n",
    "\n",
    "# Write a function to return if the given year is a leap year. \n",
    "# A leap year is divisible by 4, but not divisible by 100, unless it is also divisible by 400.\n",
    "# The return should be boolean Type (true/false)\n",
    "def leap_year():\n",
    "    i = 2000\n",
    "    leap_year_list = []\n",
    "    while(i <= 3000):\n",
    "        if (i%4==0 and not i%100==0) or i%400==0:\n",
    "            leap_year_list.append(i)\n",
    "        i+=1\n",
    "    return len(leap_year_list)\n",
    "        \n",
    "leap_year()"
   ]
  },
  {
   "cell_type": "code",
   "execution_count": 52,
   "metadata": {},
   "outputs": [
    {
     "data": {
      "text/plain": [
       "False"
      ]
     },
     "execution_count": 52,
     "metadata": {},
     "output_type": "execute_result"
    }
   ],
   "source": [
    "# 5\n",
    "\n",
    "# Write a function to check to see if all numbers in list are consecutive numbers.\n",
    "# For example, [2,3,4,5,6,7] are consecutive numbers, but [1,2,4,5] are not consecutive numbers.\n",
    "# The return should be boolean Type.\n",
    "l_2 = [1, 2, 3, 7, 5]\n",
    "\n",
    "def is_consecutive(a_list):\n",
    "    output = True\n",
    "    for i, n in enumerate(a_list):\n",
    "        if i != 0:\n",
    "            if n-a_list[i-1] != 1:\n",
    "                output = False\n",
    "    return output\n",
    "\n",
    "is_consecutive(l_2)"
   ]
  },
  {
   "cell_type": "code",
   "execution_count": 53,
   "metadata": {},
   "outputs": [
    {
     "name": "stdout",
     "output_type": "stream",
     "text": [
      "Help on class enumerate in module builtins:\n",
      "\n",
      "class enumerate(object)\n",
      " |  enumerate(iterable[, start]) -> iterator for index, value of iterable\n",
      " |  \n",
      " |  Return an enumerate object.  iterable must be another object that supports\n",
      " |  iteration.  The enumerate object yields pairs containing a count (from\n",
      " |  start, which defaults to zero) and a value yielded by the iterable argument.\n",
      " |  enumerate is useful for obtaining an indexed list:\n",
      " |      (0, seq[0]), (1, seq[1]), (2, seq[2]), ...\n",
      " |  \n",
      " |  Methods defined here:\n",
      " |  \n",
      " |  __getattribute__(self, name, /)\n",
      " |      Return getattr(self, name).\n",
      " |  \n",
      " |  __iter__(self, /)\n",
      " |      Implement iter(self).\n",
      " |  \n",
      " |  __new__(*args, **kwargs) from builtins.type\n",
      " |      Create and return a new object.  See help(type) for accurate signature.\n",
      " |  \n",
      " |  __next__(self, /)\n",
      " |      Implement next(self).\n",
      " |  \n",
      " |  __reduce__(...)\n",
      " |      Return state information for pickling.\n",
      "\n"
     ]
    }
   ],
   "source": [
    "help(enumerate)"
   ]
  }
 ],
 "metadata": {
  "kernelspec": {
   "display_name": "Python 3",
   "language": "python",
   "name": "python3"
  },
  "language_info": {
   "codemirror_mode": {
    "name": "ipython",
    "version": 3
   },
   "file_extension": ".py",
   "mimetype": "text/x-python",
   "name": "python",
   "nbconvert_exporter": "python",
   "pygments_lexer": "ipython3",
   "version": "3.6.4"
  }
 },
 "nbformat": 4,
 "nbformat_minor": 2
}
